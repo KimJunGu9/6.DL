{
 "cells": [
  {
   "cell_type": "markdown",
   "id": "90084aa6",
   "metadata": {},
   "source": [
    "# 1. 컨볼루셔널 뉴럴 네트워크(Convolutional Neural Network)"
   ]
  },
  {
   "cell_type": "markdown",
   "id": "45e4488d",
   "metadata": {},
   "source": [
    "* 합성곱 인공 신경망\n",
    "* 전통적인 뉴럴 네트워크 앞에 컨볼루셔널 계층을 붙인 형태\n",
    "* 컨볼루셔널 계층을 통해서 입력 받은 이미지에 대한 특징(Feature)을 추출하게 되고, 추출한 특징을 기반으로 기존의 뉴럴 네트워크에 이용하여 분류"
   ]
  },
  {
   "cell_type": "markdown",
   "id": "b0d68e4d",
   "metadata": {},
   "source": [
    "# 2. 컨볼루셔널 레이어(Convolutional Layer)"
   ]
  },
  {
   "cell_type": "markdown",
   "id": "53b1c376",
   "metadata": {},
   "source": [
    "* 입력 데이터로부터 특징을 추출하는 역할\n",
    "* 특징을 추출하는 필터(Filter)를 사용함\n",
    "* 필터의 값을 비선형 값으로 바꿔주는 액티베이션(Activation)함수를 사용"
   ]
  },
  {
   "cell_type": "markdown",
   "id": "9e3aacd4",
   "metadata": {},
   "source": [
    "### 2-1. 필터(Filter)\n",
    "* 특징이 데이터에 있는지 없는지 검출하는 함수\n",
    "* 필터는 구현에서 행렬로 정의\n",
    "* 입력받는 이미지 모두 행렬로 변환\n",
    "* 입력받은 데이터에서 그 특징을 가지고 있으면 결과값이 큰 값이 나오며, 특징을 가지고 있지 않으면 0에 가까운 값이 반환\n"
   ]
  },
  {
   "cell_type": "markdown",
   "id": "c353857c",
   "metadata": {},
   "source": [
    "### 2-2. 패딩(Padding)\n",
    "* CNN 네트워크 특징 중 여러 단계에 걸쳐서 계속 필터를 연속적으로 적용하는데 필터 적용 후 결과 값이 작아지게 되면 처음에 비해 특징이 유실될 수 있기 때문에 사용\n",
    "* 충분히 특징이 추출되기 전에 결과 값이 작아지면 특징이 유실되므로 이를 방지하기 위해 패딩 기법을 사용\n",
    "* 입력값 주위로 0값을 넣어서 입력 값의 크기를 인위적으로 키워 결과값이 작아지는 것을 방지\n",
    "* 원본 데이터에 0값을 넣어서 원래의 특징을 희석시키고 이것을 기반으로 머신러닝 모델이 트레이닝 값에만 정확하게 맞아들어가는 오버피팅도 방지\n"
   ]
  },
  {
   "cell_type": "markdown",
   "id": "7e18e408",
   "metadata": {},
   "source": [
    "### 2-3. 스트라이드(Stride)\n",
    "* 필터를 적용하는 간격(예 : 우측으로 한칸씩 아래로 한칸씩 적용) 값\n",
    "* 필터를 적용해서 얻어낸 결과 Feature map 또는 activation map 부름"
   ]
  },
  {
   "cell_type": "markdown",
   "id": "d8ba90b4",
   "metadata": {},
   "source": [
    "### 2-4. 풀링(pooling)\n",
    "* Feature map의 사이즈를 줄이는 방법\n",
    "* max pooling을 가장 많이 사용(average pooling, L2-norm pooling...)\n",
    "* 데이터의 크기를 줄이고 싶을때 선택적으로 사용"
   ]
  },
  {
   "cell_type": "markdown",
   "id": "a5ced45e",
   "metadata": {},
   "source": [
    "### 2-5. FC Layer(Fully Connected Layer)\n",
    "* 기존의 뉴럴 네트워크"
   ]
  },
  {
   "cell_type": "markdown",
   "id": "8cd21774",
   "metadata": {},
   "source": [
    "### 2-6. Dropout Layer\n",
    "* 오버피팅을 막기 위한 방법\n",
    "* 뉴럴 네트워크가 학습중일 때 랜덤하게 값을 발생하여 학습을 방해함으로 학습용 데이터에 결과가 치우치는 것을 방지함"
   ]
  },
  {
   "cell_type": "code",
   "execution_count": null,
   "id": "1dcdc2fd",
   "metadata": {},
   "outputs": [],
   "source": []
  }
 ],
 "metadata": {
  "kernelspec": {
   "display_name": "Python 3 (ipykernel)",
   "language": "python",
   "name": "python3"
  },
  "language_info": {
   "codemirror_mode": {
    "name": "ipython",
    "version": 3
   },
   "file_extension": ".py",
   "mimetype": "text/x-python",
   "name": "python",
   "nbconvert_exporter": "python",
   "pygments_lexer": "ipython3",
   "version": "3.7.7"
  }
 },
 "nbformat": 4,
 "nbformat_minor": 5
}
