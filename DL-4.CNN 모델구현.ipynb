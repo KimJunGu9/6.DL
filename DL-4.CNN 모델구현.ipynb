{
 "cells": [
  {
   "cell_type": "markdown",
   "id": "1d30977f",
   "metadata": {},
   "source": [
    "# 1. 모델 구현"
   ]
  },
  {
   "cell_type": "markdown",
   "id": "17d5cfae",
   "metadata": {},
   "source": [
    "* https://www.tensorflow.org/guide/keras/sequential_model\n",
    "\n",
    "```\n",
    "model = keras.Sequential(\n",
    "    [\n",
    "        layers.Dense(2, activation=\"relu\", name=\"layer1\"),\n",
    "        layers.Dense(3, activation=\"relu\", name=\"layer2\"),\n",
    "        layers.Dense(4, name=\"layer3\"),\n",
    "    ]\n",
    ")\n",
    "# Call model on a test input\n",
    "x = tf.ones((3, 3))\n",
    "y = model(x)\n",
    "```"
   ]
  },
  {
   "cell_type": "code",
   "execution_count": 1,
   "id": "aa8545fc",
   "metadata": {},
   "outputs": [],
   "source": [
    "import tensorflow as tf\n",
    "from tensorflow import keras\n",
    "from tensorflow.keras import layers"
   ]
  },
  {
   "cell_type": "code",
   "execution_count": 2,
   "id": "0e44d086",
   "metadata": {},
   "outputs": [],
   "source": [
    "# padding='same' : 자동으로 패딩을 삽입해 입력값과 출력값의 크기를 맞춰줌\n",
    "# padding='valid' : 패딩을 적용하지 않고 필터를 적용해서 출력값의 크기가 작아짐\n",
    "\n",
    "def get_sequential_model(input_shape):\n",
    "    model = keras.Sequential(\n",
    "        [\n",
    "            layers.Input(input_shape), # 입력 layer\n",
    "\n",
    "\n",
    "\n",
    "            # 1st\n",
    "            layers.Conv2D(64, 3, strides=1, activation='relu',padding='same'), #CNN모델의 레이어, 64개의 필터, 3by3짜리 필터크기, \n",
    "            layers.Conv2D(64, 3, strides=1, activation='relu',padding='same'), # strides=1은 옆으로 1칸씩 가는 것 \n",
    "            # 두번 가중치를 주면 좀 더 곡선이 살아남\n",
    "            layers.MaxPool2D(), # 연산량을 줄여주면서 그 안에 있는 특징을 추출하기위해 maxpool2d사용\n",
    "            layers.BatchNormalization(), # 값들을 정규화함.(사실 해도되고 안해도됨) \n",
    "                                        # 한 이유는 픽셀값들의 크기를 정리해줘서 속도를 빠르게하기위해\n",
    "            layers.Dropout(0.5), # 과대적합하지않게 50%를 학습시킴(이 것도 해도되고 안해도됨)\n",
    "                                # 나중에 실제로 값을 적용했을때 좋ㅁ 더 좋은 성능을 낼 수 있다.\n",
    "\n",
    "\n",
    "\n",
    "            # 2nd\n",
    "            layers.Conv2D(128, 3, strides=1, activation='relu',padding='same'), #CNN모델의 레이어, 128개의 필터, 3by3짜리 필터크기, \n",
    "            layers.Conv2D(128, 3, strides=1, activation='relu',padding='same'),\n",
    "            # 두번 가중치를 주면 좀 더 곡선이 살아남\n",
    "            layers.MaxPool2D(), # 연산량을 줄여주면서 그 안에 있는 특징을 추출하기위해 maxpool2d사용\n",
    "            layers.BatchNormalization(), # 값들을 정규화.\n",
    "            layers.Dropout(0.3), # 과대적합하지않게 # 30%를 학습시킴        \n",
    "\n",
    "\n",
    "\n",
    "            # 레이어를 두번 사용\n",
    "\n",
    "\n",
    "            # FC\n",
    "            layers.GlobalMaxPool2D(), # 여태까지 왔던 모든 데이터를 maxpool함\n",
    "            layers.Dense(128, activation=\"relu\"),\n",
    "            layers.Dense(1, activation='sigmoid'), # 시그모이드로 판단\n",
    "        ]\n",
    "    )\n",
    "    return model"
   ]
  },
  {
   "cell_type": "code",
   "execution_count": 3,
   "id": "209cd1e9",
   "metadata": {},
   "outputs": [
    {
     "name": "stdout",
     "output_type": "stream",
     "text": [
      "Model: \"sequential\"\n",
      "_________________________________________________________________\n",
      " Layer (type)                Output Shape              Param #   \n",
      "=================================================================\n",
      " conv2d (Conv2D)             (None, 256, 256, 64)      1792      \n",
      "                                                                 \n",
      " conv2d_1 (Conv2D)           (None, 256, 256, 64)      36928     \n",
      "                                                                 \n",
      " max_pooling2d (MaxPooling2D  (None, 128, 128, 64)     0         \n",
      " )                                                               \n",
      "                                                                 \n",
      " batch_normalization (BatchN  (None, 128, 128, 64)     256       \n",
      " ormalization)                                                   \n",
      "                                                                 \n",
      " dropout (Dropout)           (None, 128, 128, 64)      0         \n",
      "                                                                 \n",
      " conv2d_2 (Conv2D)           (None, 128, 128, 128)     73856     \n",
      "                                                                 \n",
      " conv2d_3 (Conv2D)           (None, 128, 128, 128)     147584    \n",
      "                                                                 \n",
      " max_pooling2d_1 (MaxPooling  (None, 64, 64, 128)      0         \n",
      " 2D)                                                             \n",
      "                                                                 \n",
      " batch_normalization_1 (Batc  (None, 64, 64, 128)      512       \n",
      " hNormalization)                                                 \n",
      "                                                                 \n",
      " dropout_1 (Dropout)         (None, 64, 64, 128)       0         \n",
      "                                                                 \n",
      " global_max_pooling2d (Globa  (None, 128)              0         \n",
      " lMaxPooling2D)                                                  \n",
      "                                                                 \n",
      " dense (Dense)               (None, 128)               16512     \n",
      "                                                                 \n",
      " dense_1 (Dense)             (None, 1)                 129       \n",
      "                                                                 \n",
      "=================================================================\n",
      "Total params: 277,569\n",
      "Trainable params: 277,185\n",
      "Non-trainable params: 384\n",
      "_________________________________________________________________\n"
     ]
    }
   ],
   "source": [
    "input_shape = (256, 256, 3)\n",
    "model = get_sequential_model(input_shape)\n",
    "\n",
    "model.summary()"
   ]
  },
  {
   "cell_type": "code",
   "execution_count": 4,
   "id": "496b61a3",
   "metadata": {},
   "outputs": [],
   "source": [
    "class SimpleCNN(keras.Model):\n",
    "    def __init__(self):\n",
    "        super(SimpleCNN, self).__init__()\n",
    "        \n",
    "        \n",
    "        \n",
    "        self.conv_block_1 = keras.Sequential(\n",
    "            [\n",
    "                layers.Conv2D(64, 3, strides=1, activation='relu',padding='same'), #CNN모델의 레이어, 64개의 필터, 3by3짜리 필터크기, \n",
    "                layers.Conv2D(64, 3, strides=1, activation='relu',padding='same'),\n",
    "                # 두번 가중치를 주면 좀 더 곡선이 살아남\n",
    "                layers.MaxPool2D(), # 연산량을 줄여주면서 그 안에 있는 특징을 추출하기위해 maxpool2d사용\n",
    "                layers.BatchNormalization(), # 값들을 정규화.\n",
    "                layers.Dropout(0.5), # 과대적합하지않게 # 50%를 학습시킴           \n",
    "            ], name = 'conv_block_1' # 뒤에 이름 붙일 수 있음\n",
    "        )\n",
    "        \n",
    "        \n",
    "        \n",
    "        self.conv_block_2 = keras.Sequential(\n",
    "            [\n",
    "                layers.Conv2D(128, 3, strides=1, activation='relu',padding='same'), #CNN모델의 레이어, 128개의 필터, 3by3짜리 필터크기, \n",
    "                layers.Conv2D(128, 3, strides=1, activation='relu',padding='same'),\n",
    "                # 두번 가중치를 주면 좀 더 곡선이 살아남\n",
    "                layers.MaxPool2D(), # 연산량을 줄여주면서 그 안에 있는 특징을 추출하기위해 maxpool2d사용\n",
    "                layers.BatchNormalization(), # 값들을 정규화.\n",
    "                layers.Dropout(0.3), # 과대적합하지않게 # 30%를 학습시킴                   \n",
    "            ], name = 'conv_block_2' # 뒤에 이름 붙일 수 있음\n",
    "        )\n",
    "        \n",
    "        \n",
    "        \n",
    "        # FC쪽 복사\n",
    "        self.classifier = keras.Sequential(\n",
    "            [\n",
    "                layers.GlobalMaxPool2D(), # 여태까지 왔던 모든 데이터를 maxpool함\n",
    "                layers.Dense(128, activation=\"relu\"),\n",
    "                layers.Dense(1, activation='sigmoid'), # 시그모이드로 판단                \n",
    "            ], name = 'classifier'\n",
    "        )\n",
    "\n",
    "        \n",
    "        \n",
    "        \n",
    "    def call(self, input_tensor, training=False): # 객체를 생성하면 자동으로 호출되는 메소드\n",
    "        x = self.conv_block_1(input_tensor)\n",
    "        x = self.conv_block_2(x)\n",
    "        x = self.classifier(x)\n",
    "        \n",
    "        return x"
   ]
  },
  {
   "cell_type": "code",
   "execution_count": 5,
   "id": "58b5bbc1",
   "metadata": {},
   "outputs": [
    {
     "name": "stdout",
     "output_type": "stream",
     "text": [
      "Model: \"simple_cnn\"\n",
      "_________________________________________________________________\n",
      " Layer (type)                Output Shape              Param #   \n",
      "=================================================================\n",
      " conv_block_1 (Sequential)   (None, 128, 128, 64)      38976     \n",
      "                                                                 \n",
      " conv_block_2 (Sequential)   (None, 64, 64, 128)       221952    \n",
      "                                                                 \n",
      " classifier (Sequential)     (None, 1)                 16641     \n",
      "                                                                 \n",
      "=================================================================\n",
      "Total params: 277,569\n",
      "Trainable params: 277,185\n",
      "Non-trainable params: 384\n",
      "_________________________________________________________________\n"
     ]
    }
   ],
   "source": [
    "input_shape = (None, 256, 256, 3) # None은 배치들어가는거라서 안넣음, 채널3짜리 shape\n",
    "model = SimpleCNN()\n",
    "model.build(input_shape) # model.build하게되면 def call()이 실행된다. \n",
    "\n",
    "model.summary()"
   ]
  },
  {
   "cell_type": "code",
   "execution_count": 6,
   "id": "d15ac572",
   "metadata": {},
   "outputs": [],
   "source": [
    "model.compile( # compile함수 사용해서 설정값 설정\n",
    "    optimizer = 'adam',\n",
    "    loss = 'binary_crossentropy',\n",
    "    metrics='accuracy'\n",
    ")"
   ]
  },
  {
   "cell_type": "code",
   "execution_count": null,
   "id": "4fad13e3",
   "metadata": {},
   "outputs": [],
   "source": []
  }
 ],
 "metadata": {
  "kernelspec": {
   "display_name": "Python 3 (ipykernel)",
   "language": "python",
   "name": "python3"
  },
  "language_info": {
   "codemirror_mode": {
    "name": "ipython",
    "version": 3
   },
   "file_extension": ".py",
   "mimetype": "text/x-python",
   "name": "python",
   "nbconvert_exporter": "python",
   "pygments_lexer": "ipython3",
   "version": "3.7.7"
  }
 },
 "nbformat": 4,
 "nbformat_minor": 5
}
